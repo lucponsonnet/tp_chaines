{
 "cells": [
  {
   "cell_type": "markdown",
   "metadata": {},
   "source": [
    "# Révisions sur les chaînes de caractères\n",
    "\n",
    "## 1- Généralités sur les chaînes de caractères\n",
    "### a) Qu'est-ce qu'une chaîne de caractères ?\n",
    "Une chaîne de caractères est un regroupement de caractères issus d’un alphabet.\n",
    "\n",
    "Exécutez la *cellules Code* suivante (sélectionner la \"cellule Code\", puis cliquer sur *Exécuter* ou utiliser le raccourci clavier *CTRL + Entrée*)."
   ]
  },
  {
   "cell_type": "code",
   "execution_count": null,
   "metadata": {},
   "outputs": [],
   "source": [
    "message1=\"Bonjour\"\n",
    "message2='Pierre'\n",
    "message3='L\\'intrépide'\n",
    "print(message1)\n",
    "print(message2)\n",
    "print(message3)"
   ]
  },
  {
   "cell_type": "markdown",
   "metadata": {},
   "source": [
    "Une chaîne de caractères est délimitée par des guillemets ou de simples apostrophes.\n",
    "\n",
    "Pour éviter une erreur lors de l'affectation dans la variable *message3*, on utilise l'antislash ( \\ ) pour dire que l'apostrophe ( ' ) qui suit est ici un caractère de la chaîne et non la fin de la chaîne. On pouvait aussi faire l'affectation : *message3=\"L'intrépide\"*.\n",
    "\n",
    "Pour afficher le contenu d'une variable $a$, on utilise l'instruction *print(a)*.\n",
    "\n",
    "<span style='color:blue'>**Application 1**</span> :\n",
    "\n",
    "Dans la *cellule Code* suivante, affecter dans les variables $a$ et $b$, respectivement les chaînes de caractère \"Il fait beau et chaud\", 'L'homme est un loup pour l'homme', et les afficher."
   ]
  },
  {
   "cell_type": "code",
   "execution_count": null,
   "metadata": {},
   "outputs": [],
   "source": []
  },
  {
   "cell_type": "markdown",
   "metadata": {},
   "source": [
    "### b) Indice du terme d'une chaîne de caractères. Longueur d'une chaîne de caractères\n",
    "Le premier caractère d'une chaîne de caractères *char* est obtenu en tapant *char*[0], le caractère suivant *char*[1], etc.\n",
    "\n",
    "Si *char=\"car\"* alors le premier caractère 'c' de la chaîne a pour **indice** 0, le second 'a' a pour **index 1**, et le dernier 'r' a pour **rang** 2. Les mots indice, index ou rang sont synonymes.\n",
    "\n",
    "La fonction Python *len()* renvoie la **longueur** ou la **taille** de la chaîne de caractères *char*, c'est-à-dire le nombre n de caractères qui composent la chaîne *char*.\n",
    "Attention, si la chaîne *char* contient n valeurs alors le dernier caractère de la chaîne est *char*[n-1] que l'on peut aussi obtenir par *char*[len(L)-1].\n",
    "\n",
    "\n",
    "Exécutez le script suivant :"
   ]
  },
  {
   "cell_type": "code",
   "execution_count": null,
   "metadata": {},
   "outputs": [],
   "source": [
    "mot=\"Bonjour\"\n",
    "len(mot)\n",
    "print(mot[0])\n",
    "print(mot[1])\n",
    "print(mot[2])\n",
    "print(len(mot))\n",
    "print(mot[len(mot)-1])\n",
    "print(classe[len(mot)])"
   ]
  },
  {
   "cell_type": "markdown",
   "metadata": {},
   "source": [
    "*print(classe[len(mot)])* renvoie un message d'erreur car l'index 7 n'existe pas, d'où le message \"index out of range\".\n",
    "\n",
    "<span style='color:blue'>**Application 2**</span> :\n",
    "\n",
    "On considère la chaîne de caractères *phrase*=\"L'homme est un loup pour l'homme\". \n",
    "\n",
    "Compléter la ligne 2 en utilisant *len(L)* pour afficher le dernier caractère de *phrase*."
   ]
  },
  {
   "cell_type": "code",
   "execution_count": null,
   "metadata": {},
   "outputs": [],
   "source": [
    "phrase=\"L'homme est un loup pour l'homme\"\n",
    "print(...)"
   ]
  },
  {
   "cell_type": "markdown",
   "metadata": {},
   "source": [
    "## 2- Quelques opérations sur les chaînes de caractères\n",
    "#### a) La concaténation\n",
    "La concaténation des chaînes de caractères *char1* et *char2* se fait avec l'opérateur +. \n",
    "\n",
    "*char1*+*char2* correspond à la seule chaîne composée des charactères de *char1* suivis des caractères de *char2*.\n",
    "\n",
    "Il est à noter que la chaîne *char1*+*char2* diffère de la chaîne *char2*+*char1* comme le montre la *cellule Code* suivante :"
   ]
  },
  {
   "cell_type": "code",
   "execution_count": null,
   "metadata": {},
   "outputs": [],
   "source": [
    "char1=\"bonjour \"\n",
    "char2=\"Pierre \"\n",
    "print(char1+char2)\n",
    "print(char2+char1)"
   ]
  },
  {
   "cell_type": "markdown",
   "metadata": {},
   "source": [
    "<span style='color:blue'>**Application 3**</span> :\n",
    "\n",
    "A partir des quatre chaînes de caractères *mot1*=\"allô\", *mot2*=\"Titi\", *mot3*=\" \" et *mot4*=\",\", obtenir par concaténation la chaîne de caractères \"allô, allô, Titi\" dans la *cellule Code* suivante :"
   ]
  },
  {
   "cell_type": "code",
   "execution_count": null,
   "metadata": {},
   "outputs": [],
   "source": [
    "mot1=\"allô\"\n",
    "mot2=\"Titi\"\n",
    "mot3=\" \"\n",
    "mot4=\",\"\n",
    "print(...)"
   ]
  },
  {
   "cell_type": "markdown",
   "metadata": {},
   "source": [
    "<span style='color:green'>**Remarque**</span> :\n",
    "\n",
    "La fonction *append()* ne fonctionne pas avec les chaînes de caractères. Pour vous en convaincre, tester la *cellule Code* suivante :"
   ]
  },
  {
   "cell_type": "code",
   "execution_count": null,
   "metadata": {},
   "outputs": [],
   "source": [
    "char=\"Bonjour\"\n",
    "char.append(\" Pierre\")"
   ]
  },
  {
   "cell_type": "markdown",
   "metadata": {},
   "source": [
    "#### b) L'auto-concaténation\n",
    "\n",
    "Nous allons créer la chaîne de caractères \"Paul\" à partir de la chaîne vide *char*=\"\" et cela par auto-concaténations successives de la chaîne *char* avec des chaînes contenant un seul caractère."
   ]
  },
  {
   "cell_type": "code",
   "execution_count": null,
   "metadata": {},
   "outputs": [],
   "source": [
    "char=\"\"\n",
    "char=char+\"P\"\n",
    "char=char+\"a\"\n",
    "char=char+\"u\"\n",
    "char=char+\"l\"\n",
    "print(char)"
   ]
  },
  {
   "cell_type": "markdown",
   "metadata": {},
   "source": [
    "Au début *char*=\"\" donc *char*+\"P\"=\"\"+\"P\"=\"P\". Par concaténation de la chaîne vide et de la lettre \"P\", on obtient \"P\".\n",
    "\n",
    "Ce dernier résultat est affecté dans *char*.\n",
    "\n",
    "*char*=*char*+\"a\" donc *char*+\"a\"=\"P\"+\"a\"=\"Pa\". Par concaténation de la lettre \"P\" et de la lettre \"a\", on obtient \"Pa\".\n",
    "\n",
    "Ce dernier résultat est affecté dans *char*.\n",
    "\n",
    "*char*=*char*+\"u\" donc *char*+\"u\"=\"Pa\"+\"u\"=\"Pau\". Par concaténation de la chaîne \"Pa\" et de la lettre \"u\", on obtient \"Pau\".\n",
    "\n",
    "Ce dernier résultat est affecté dans *char*.\n",
    "\n",
    "*char*=*char*+\"l\" donc *char*+\"l\"=\"Pau\"+\"l\"=\"Paul\". Par concaténation de la chaîne \"Pau\" et de la lettre \"l\", on obtient \"Paul\".\n",
    "\n",
    "Ce dernier résultat est affecté dans *char*.\n",
    "\n",
    "<span style='color:blue'>**Application 4**</span> :\n",
    "\n",
    "En partant de la chaîne vide *char*=\"\", obtenir avec des auto-concaténations par \"la droite\" de lettres, la chaîne de caractères \"Toto\".\n",
    "\n",
    "Faire de même, cette fois-ci pavec des auto-concaténations par \"la gauche\"."
   ]
  },
  {
   "cell_type": "code",
   "execution_count": null,
   "metadata": {},
   "outputs": [],
   "source": []
  },
  {
   "cell_type": "code",
   "execution_count": null,
   "metadata": {},
   "outputs": [],
   "source": []
  },
  {
   "cell_type": "markdown",
   "metadata": {},
   "source": [
    "#### c) La duplication\n",
    "\n",
    "L'opérateur de duplication * permet d'obtenir une chaîne dupliquée. Exécuter le code suivant :"
   ]
  },
  {
   "cell_type": "code",
   "execution_count": null,
   "metadata": {},
   "outputs": [],
   "source": [
    "\"bla \"*3"
   ]
  },
  {
   "cell_type": "markdown",
   "metadata": {},
   "source": [
    "<span style='color:blue'>**Application 5**</span> :\n",
    "\n",
    "En utilisant les opérateurs de concaténation et de duplication créer la chaîne \"allô allô allô c'est qui ?\" à partir des chaînes \"allô\" et \"c'est qui ?\"."
   ]
  },
  {
   "cell_type": "code",
   "execution_count": null,
   "metadata": {},
   "outputs": [],
   "source": []
  },
  {
   "cell_type": "markdown",
   "metadata": {},
   "source": [
    "#### d) L'affectation n'est pas possible\n",
    "\n",
    "Contrairement aux listes, il n'est pas possible de modifier une lettre d'une chaîne de caractères à l'aide d'une affectation.\n",
    "\n",
    "Exécuter le code suivant pour vous en convaincre."
   ]
  },
  {
   "cell_type": "code",
   "execution_count": null,
   "metadata": {},
   "outputs": [],
   "source": [
    "a=\"bonjour !\"\n",
    "a[0]=\"B\""
   ]
  },
  {
   "cell_type": "markdown",
   "metadata": {},
   "source": [
    "## 3- Exercices\n",
    "\n",
    "\n",
    "<span style='color:blue'>**Exercice 1**</span> :\n",
    "\n",
    "On considère une variable *mot* qui contient une chaîne de caractères composée de lettres sans accent et en minuscule.\n",
    "Compléter le script suivant pour qu'il renvoie *True* si *mot* contient une voyelle, et *False* dans le cas contraire."
   ]
  },
  {
   "cell_type": "code",
   "execution_count": null,
   "metadata": {},
   "outputs": [],
   "source": [
    "def voyelle(mot):\n",
    "    voy=\"aeiouy\"\n",
    "    for i in range(...):\n",
    "        for j in range(...):\n",
    "            if mot[i]==voy[j]:\n",
    "                return ...\n",
    "    return ...\n",
    "\n",
    "print(voyelle(\"bonjour\"))"
   ]
  },
  {
   "cell_type": "markdown",
   "metadata": {},
   "source": [
    "\n",
    "<span style='color:blue'>**Exercice 2**</span> :\n",
    "\n",
    "Compléter le script suivant pour qu'il renvoie le nombre (on parle d'**occurence**) de fois où la lettre contenu dans la variable \"e\" apparaît dans *mot*."
   ]
  },
  {
   "cell_type": "code",
   "execution_count": null,
   "metadata": {},
   "outputs": [],
   "source": [
    "def occurence(mot,e):\n",
    "    cpt=0\n",
    "    for i in range(...):\n",
    "        if ...:\n",
    "            cpt=cpt+1\n",
    "    return ...\n",
    "\n",
    "print(occurrence(\"anticonstitutionnellement\",\"t\"))"
   ]
  },
  {
   "cell_type": "markdown",
   "metadata": {},
   "source": [
    "<span style='color:blue'>**Exercice 3**</span> :\n",
    "\n",
    "On considère un brin d’ADN du type *brin*=\"ACGTTAGCTAACG\".\n",
    "\n",
    "Ecrire une fonction *adn(brin)* qui transforme ce brin en son brin complémentaire.\n",
    "\n",
    "**Rappel** : la séquence complémentaire s’obtient en remplaçant A par T, T par A, C par G et G par C.\n"
   ]
  },
  {
   "cell_type": "code",
   "execution_count": null,
   "metadata": {},
   "outputs": [],
   "source": [
    "def adn(brin):\n",
    "    ...\n",
    "\n",
    "print(adn(\"ACGTTAGCTAACG\"))"
   ]
  }
 ],
 "metadata": {
  "kernelspec": {
   "display_name": "Python 3",
   "language": "python",
   "name": "python3"
  },
  "language_info": {
   "codemirror_mode": {
    "name": "ipython",
    "version": 3
   },
   "file_extension": ".py",
   "mimetype": "text/x-python",
   "name": "python",
   "nbconvert_exporter": "python",
   "pygments_lexer": "ipython3",
   "version": "3.8.5"
  }
 },
 "nbformat": 4,
 "nbformat_minor": 4
}
